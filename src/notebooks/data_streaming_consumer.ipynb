{
 "cells": [
  {
   "cell_type": "code",
   "execution_count": null,
   "id": "c24b2cf4",
   "metadata": {},
   "outputs": [],
   "source": [
    "from kafka import KafkaConsumer,KafkaProducer\n",
    "import json\n",
    "import time\n",
    "import random\n",
    "import torch\n",
    "import pandas as pd\n",
    "import sys\n",
    "import pickle\n",
    "sys.path.append('../')\n",
    "from model.TabTransformer import TabTransformer\n"
   ]
  },
  {
   "cell_type": "code",
   "execution_count": null,
   "id": "117737ea",
   "metadata": {},
   "outputs": [],
   "source": [
    "producer= KafkaProducer(\n",
    "    bootstrap_servers='localhost:9092',\n",
    "    value_serializer=lambda x: json.dumps(x).encode('utf-8')\n",
    "    )"
   ]
  },
  {
   "cell_type": "code",
   "execution_count": null,
   "id": "276e93a6",
   "metadata": {},
   "outputs": [],
   "source": [
    "\n",
    "# Example function to generate synthetic logs\n",
    "def generate_log():\n",
    "    log = {\n",
    "        'dur': random.randint(1, 100),\n",
    "        'proto': random.choice(labels_encoder[\"proto\"].classes_),\n",
    "        'service': random.choice(labels_encoder[\"service\"].classes_),\n",
    "        'state': random.choice(labels_encoder[\"state\"].classes_),\n",
    "        'spkts': random.randint(1, 100),\n",
    "        'dpkts': random.randint(1, 100),\n",
    "        'sbytes': random.randint(100, 1000),\n",
    "        'dbytes': random.randint(100, 1000),\n",
    "        'rate': random.random(),\n",
    "        'sload': random.random(),\n",
    "        'dload': random.random(),\n",
    "        'sloss': random.random(),\n",
    "        'dloss': random.random(),\n",
    "        'sinpkt': random.random(),\n",
    "        'dinpkt': random.random(),\n",
    "        'sjit': random.random(),\n",
    "        'djit': random.random(),\n",
    "        'swin': random.randint(1, 1000),\n",
    "        'stcpb': random.randint(1, 1000),\n",
    "        'dtcpb': random.randint(1, 1000),\n",
    "        'dwin': random.randint(1, 1000),\n",
    "        'tcprtt': random.random(),\n",
    "        'synack': random.random(),\n",
    "        'ackdat': random.random(),\n",
    "        'smean': random.random(),\n",
    "        'dmean': random.random(),\n",
    "        'trans_depth': random.randint(1, 10),\n",
    "        'response_body_len': random.randint(0, 1000),\n",
    "        'ct_src_dport_ltm': random.randint(1, 100),\n",
    "        'ct_dst_sport_ltm': random.randint(1, 100),\n",
    "        'is_ftp_login': random.choice([0, 1]),\n",
    "        'ct_ftp_cmd': random.randint(0, 10),\n",
    "        'ct_flw_http_mthd': random.choice(labels_encoder[\"ct_flw_http_mthd\"].classes_),\n",
    "        'is_sm_ips_ports': random.choice([0, 1]),\n",
    "        'attack_cat': random.choice([ 1,  0, 25,  9,  2,  4, 16,  6, 30, 12,  3])\n",
    "    }\n",
    "    return log\n"
   ]
  },
  {
   "cell_type": "code",
   "execution_count": null,
   "id": "580473a2",
   "metadata": {},
   "outputs": [],
   "source": [
    "# Load the model from the pickle file\n",
    "model = torch.load('../../resources/model/tab_transformer_model.pkl')\n",
    "    # Initialize model\n",
    "x_train=pd.read_csv(\"../../data/starter/train_val_data/x_train.csv\").drop(columns=['Unnamed: 0'])\n",
    "\n",
    "with open(\"../../resources/data_preprocessing/label_encoders.pkl\",\"rb\") as f:\n",
    "    labels_encoder=pickle.load(f)\n",
    "num_col = [col for col in x_train.columns if col not in labels_encoder.keys()]\n",
    "\n",
    "categorical_cardinates = [len(label_encoder.classes_) for label_encoder in labels_encoder.values()]\n",
    "\n",
    "model = TabTransformer(\n",
    "        categorical_cardinates,\n",
    "        num_numerical=x_train[num_col].shape[1]\n",
    "    )\n",
    "\n",
    "# Load the state dict\n",
    "state_dict = torch.load('../../resources/model/tab_transformer_model.pkl', map_location=torch.device('cpu'))\n",
    "model.load_state_dict(state_dict)\n",
    "\n",
    "# Set to evaluation mode\n",
    "model.eval()\n"
   ]
  },
  {
   "cell_type": "code",
   "execution_count": null,
   "id": "c75e4379",
   "metadata": {},
   "outputs": [],
   "source": [
    "consumer = KafkaConsumer(\n",
    "    'logs',\n",
    "    bootstrap_servers='localhost:9092',\n",
    "    value_deserializer=lambda x: json.loads(x.decode('utf-8'))\n",
    ")"
   ]
  },
  {
   "cell_type": "code",
   "execution_count": null,
   "id": "df272864",
   "metadata": {},
   "outputs": [],
   "source": []
  }
 ],
 "metadata": {
  "kernelspec": {
   "display_name": "base",
   "language": "python",
   "name": "python3"
  },
  "language_info": {
   "codemirror_mode": {
    "name": "ipython",
    "version": 3
   },
   "file_extension": ".py",
   "mimetype": "text/x-python",
   "name": "python",
   "nbconvert_exporter": "python",
   "pygments_lexer": "ipython3",
   "version": "3.9.12"
  }
 },
 "nbformat": 4,
 "nbformat_minor": 5
}
